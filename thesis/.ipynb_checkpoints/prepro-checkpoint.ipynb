{
 "cells": [
  {
   "cell_type": "code",
   "execution_count": 1,
   "id": "d8c7d5e3-53bf-4528-a4e5-fb93062ff2e3",
   "metadata": {},
   "outputs": [],
   "source": [
    "import pandas as pd"
   ]
  },
  {
   "cell_type": "code",
   "execution_count": 2,
   "id": "6747a303-339b-4b21-8721-d03c5ecc514d",
   "metadata": {},
   "outputs": [],
   "source": [
    "df = pd.read_csv(\"dataset.csv\")"
   ]
  },
  {
   "cell_type": "code",
   "execution_count": 3,
   "id": "2ac6fa0a-2f00-4dbf-9410-09d3f8ceaf55",
   "metadata": {},
   "outputs": [
    {
     "data": {
      "text/html": [
       "<div>\n",
       "<style scoped>\n",
       "    .dataframe tbody tr th:only-of-type {\n",
       "        vertical-align: middle;\n",
       "    }\n",
       "\n",
       "    .dataframe tbody tr th {\n",
       "        vertical-align: top;\n",
       "    }\n",
       "\n",
       "    .dataframe thead th {\n",
       "        text-align: right;\n",
       "    }\n",
       "</style>\n",
       "<table border=\"1\" class=\"dataframe\">\n",
       "  <thead>\n",
       "    <tr style=\"text-align: right;\">\n",
       "      <th></th>\n",
       "      <th>ID</th>\n",
       "      <th>PATID</th>\n",
       "      <th>UCX_abnormal</th>\n",
       "      <th>ua_bacteria</th>\n",
       "      <th>ua_bili</th>\n",
       "      <th>ua_blood</th>\n",
       "      <th>ua_clarity</th>\n",
       "      <th>ua_color</th>\n",
       "      <th>ua_epi</th>\n",
       "      <th>ua_glucose</th>\n",
       "      <th>...</th>\n",
       "      <th>SKIN_PREPS</th>\n",
       "      <th>SMOKING_DETERRENTS</th>\n",
       "      <th>THYROID_PREPS</th>\n",
       "      <th>UNCLASSIFIED_DRUG_PRODUCTS</th>\n",
       "      <th>VITAMINS</th>\n",
       "      <th>dispo</th>\n",
       "      <th>UTI_diag</th>\n",
       "      <th>split</th>\n",
       "      <th>abxUTI</th>\n",
       "      <th>alt_diag</th>\n",
       "    </tr>\n",
       "  </thead>\n",
       "  <tbody>\n",
       "    <tr>\n",
       "      <th>0</th>\n",
       "      <td>1</td>\n",
       "      <td>1</td>\n",
       "      <td>yes</td>\n",
       "      <td>few</td>\n",
       "      <td>negative</td>\n",
       "      <td>negative</td>\n",
       "      <td>clear</td>\n",
       "      <td>yellow</td>\n",
       "      <td>small</td>\n",
       "      <td>negative</td>\n",
       "      <td>...</td>\n",
       "      <td>No</td>\n",
       "      <td>No</td>\n",
       "      <td>No</td>\n",
       "      <td>No</td>\n",
       "      <td>No</td>\n",
       "      <td>Admit</td>\n",
       "      <td>Yes</td>\n",
       "      <td>training</td>\n",
       "      <td>yes</td>\n",
       "      <td>0</td>\n",
       "    </tr>\n",
       "    <tr>\n",
       "      <th>1</th>\n",
       "      <td>2</td>\n",
       "      <td>1</td>\n",
       "      <td>no</td>\n",
       "      <td>many</td>\n",
       "      <td>negative</td>\n",
       "      <td>small</td>\n",
       "      <td>clear</td>\n",
       "      <td>yellow</td>\n",
       "      <td>not_reported</td>\n",
       "      <td>negative</td>\n",
       "      <td>...</td>\n",
       "      <td>No</td>\n",
       "      <td>No</td>\n",
       "      <td>No</td>\n",
       "      <td>No</td>\n",
       "      <td>Yes</td>\n",
       "      <td>Admit</td>\n",
       "      <td>Yes</td>\n",
       "      <td>training</td>\n",
       "      <td>yes</td>\n",
       "      <td>0</td>\n",
       "    </tr>\n",
       "    <tr>\n",
       "      <th>2</th>\n",
       "      <td>3</td>\n",
       "      <td>2</td>\n",
       "      <td>yes</td>\n",
       "      <td>few</td>\n",
       "      <td>negative</td>\n",
       "      <td>negative</td>\n",
       "      <td>clear</td>\n",
       "      <td>yellow</td>\n",
       "      <td>small</td>\n",
       "      <td>negative</td>\n",
       "      <td>...</td>\n",
       "      <td>No</td>\n",
       "      <td>No</td>\n",
       "      <td>Yes</td>\n",
       "      <td>Yes</td>\n",
       "      <td>No</td>\n",
       "      <td>Discharge</td>\n",
       "      <td>No</td>\n",
       "      <td>training</td>\n",
       "      <td>no</td>\n",
       "      <td>0</td>\n",
       "    </tr>\n",
       "    <tr>\n",
       "      <th>3</th>\n",
       "      <td>4</td>\n",
       "      <td>3</td>\n",
       "      <td>yes</td>\n",
       "      <td>many</td>\n",
       "      <td>negative</td>\n",
       "      <td>negative</td>\n",
       "      <td>not_clear</td>\n",
       "      <td>yellow</td>\n",
       "      <td>not_reported</td>\n",
       "      <td>negative</td>\n",
       "      <td>...</td>\n",
       "      <td>No</td>\n",
       "      <td>No</td>\n",
       "      <td>No</td>\n",
       "      <td>No</td>\n",
       "      <td>Yes</td>\n",
       "      <td>Admit</td>\n",
       "      <td>Yes</td>\n",
       "      <td>training</td>\n",
       "      <td>yes</td>\n",
       "      <td>0</td>\n",
       "    </tr>\n",
       "    <tr>\n",
       "      <th>4</th>\n",
       "      <td>5</td>\n",
       "      <td>4</td>\n",
       "      <td>no</td>\n",
       "      <td>moderate</td>\n",
       "      <td>small</td>\n",
       "      <td>negative</td>\n",
       "      <td>clear</td>\n",
       "      <td>orange</td>\n",
       "      <td>not_reported</td>\n",
       "      <td>negative</td>\n",
       "      <td>...</td>\n",
       "      <td>No</td>\n",
       "      <td>No</td>\n",
       "      <td>No</td>\n",
       "      <td>No</td>\n",
       "      <td>No</td>\n",
       "      <td>AMA</td>\n",
       "      <td>No</td>\n",
       "      <td>training</td>\n",
       "      <td>no</td>\n",
       "      <td>0</td>\n",
       "    </tr>\n",
       "  </tbody>\n",
       "</table>\n",
       "<p>5 rows × 220 columns</p>\n",
       "</div>"
      ],
      "text/plain": [
       "   ID  PATID UCX_abnormal ua_bacteria   ua_bili  ua_blood ua_clarity ua_color  \\\n",
       "0   1      1          yes         few  negative  negative      clear   yellow   \n",
       "1   2      1           no        many  negative     small      clear   yellow   \n",
       "2   3      2          yes         few  negative  negative      clear   yellow   \n",
       "3   4      3          yes        many  negative  negative  not_clear   yellow   \n",
       "4   5      4           no    moderate     small  negative      clear   orange   \n",
       "\n",
       "         ua_epi ua_glucose  ... SKIN_PREPS SMOKING_DETERRENTS THYROID_PREPS  \\\n",
       "0         small   negative  ...         No                 No            No   \n",
       "1  not_reported   negative  ...         No                 No            No   \n",
       "2         small   negative  ...         No                 No           Yes   \n",
       "3  not_reported   negative  ...         No                 No            No   \n",
       "4  not_reported   negative  ...         No                 No            No   \n",
       "\n",
       "  UNCLASSIFIED_DRUG_PRODUCTS VITAMINS      dispo  UTI_diag     split abxUTI  \\\n",
       "0                         No       No      Admit       Yes  training    yes   \n",
       "1                         No      Yes      Admit       Yes  training    yes   \n",
       "2                        Yes       No  Discharge        No  training     no   \n",
       "3                         No      Yes      Admit       Yes  training    yes   \n",
       "4                         No       No        AMA        No  training     no   \n",
       "\n",
       "  alt_diag  \n",
       "0        0  \n",
       "1        0  \n",
       "2        0  \n",
       "3        0  \n",
       "4        0  \n",
       "\n",
       "[5 rows x 220 columns]"
      ]
     },
     "execution_count": 3,
     "metadata": {},
     "output_type": "execute_result"
    }
   ],
   "source": [
    "df.head()"
   ]
  },
  {
   "cell_type": "code",
   "execution_count": 5,
   "id": "bc82babc-f627-4ba5-8203-90864b68d297",
   "metadata": {},
   "outputs": [
    {
     "data": {
      "text/plain": [
       "(80387, 220)"
      ]
     },
     "execution_count": 5,
     "metadata": {},
     "output_type": "execute_result"
    }
   ],
   "source": [
    "df.shape"
   ]
  },
  {
   "cell_type": "code",
   "execution_count": 6,
   "id": "51c983c6-c340-4379-bbf9-959e79bd9c88",
   "metadata": {},
   "outputs": [],
   "source": [
    "drop_cols = df.loc[:, \"CVA_tenderness\":\"chief_complaint\"].columns"
   ]
  },
  {
   "cell_type": "code",
   "execution_count": 7,
   "id": "9eaaa879-3edc-48fc-8a61-51e8fbb59697",
   "metadata": {},
   "outputs": [],
   "source": [
    "df = df.drop(columns=drop_cols)"
   ]
  },
  {
   "cell_type": "code",
   "execution_count": 8,
   "id": "76860d9f-5c07-4c9c-a167-778bc093f841",
   "metadata": {},
   "outputs": [],
   "source": [
    "drop_cols1 = df.loc[:, \"arrival\":\"abx\"].columns"
   ]
  },
  {
   "cell_type": "code",
   "execution_count": 9,
   "id": "f12dac1d-d8b8-474a-8631-807a76c5c429",
   "metadata": {},
   "outputs": [],
   "source": [
    "df = df.drop(columns=drop_cols1)"
   ]
  },
  {
   "cell_type": "code",
   "execution_count": 10,
   "id": "e04025d6-b8cb-4881-a375-6b2d671827a5",
   "metadata": {},
   "outputs": [
    {
     "name": "stdout",
     "output_type": "stream",
     "text": [
      "['ID', 'PATID', 'UCX_abnormal', 'ua_bacteria', 'ua_bili', 'ua_blood', 'ua_clarity', 'ua_color', 'ua_epi', 'ua_glucose', 'ua_ketones', 'ua_leuk', 'ua_nitrite', 'ua_ph', 'ua_protein', 'ua_rbc', 'ua_spec_grav', 'ua_urobili', 'ua_wbc', 'age', 'gender', 'race', 'ethnicity', 'lang', 'maritalStatus', 'employStatus', 'insurance_status', 'disposition', 'Abdominal_hernia', 'Abdominal_pain', 'Acute_and_unspecified_renal_failure', 'Anal_and_rectal_conditions', 'Calculus_of_urinary_tract', 'Cancer', 'Chronic_renal_failure', 'Congestive_heart_failure__nonhypertensive', 'Coronary_atherosclerosis_and_other_heart_disease', 'Delirium__dementia__and_amnestic_and_other_cognitive_disorders', 'Diabetes_mellitus_with_complications', 'Diabetes_mellitus_without_complication', 'Diabetes_or_abnormal_glucose_tolerance_complicating_pregnancy__childbirth__or_the_puerperium', 'Genitourinary_congenital_anomalies', 'Genitourinary_symptoms_and_ill_defined_conditions', 'Heart_valve_disorders', 'HIV_infection', 'Hodgkins_disease', 'Hyperplasia_of_prostate', 'Inflammatory_conditions_of_male_genital_organs', 'Leukemias', 'Maintenance_chemotherapy__radiotherapy', 'Menstrual_disorders', 'Nephritis__nephrosis__renal_sclerosis', 'Non_Hodgkins_lymphoma', 'Other_and_ill_defined_heart_disease', 'Other_female_genital_disorders', 'Other_male_genital_disorders', 'Other_non_epithelial_cancer_of_skin', 'Pancreatic_disorders__not_diabetes_', 'Paralysis', 'Parkinsons_disease', 'Poisoning_by_nonmedicinal_substances', 'Prolapse_of_female_genital_organs', 'Pulmonary_heart_disease', 'Screening_and_history_of_mental_health_and_substance_abuse_codes', 'Septicemia__except_in_labor_', 'Sexually_transmitted_infections__not_HIV_or_hepatitis_', 'Substance_related_disorders', 'Urinary_tract_infections', 'ANALGESIC_AND_ANTIHISTAMINE_COMBINATION', 'ANALGESICS', 'ANESTHETICS', 'ANTI_OBESITY_DRUGS', 'ANTIALLERGY', 'ANTIARTHRITICS', 'ANTIASTHMATICS', 'ANTIBIOTICS', 'ANTICOAGULANTS', 'ANTIDOTES', 'ANTIFUNGALS', 'ANTIHISTAMINE_AND_DECONGESTANT_COMBINATION', 'ANTIHISTAMINES', 'ANTIHYPERGLYCEMICS', 'ANTIINFECTIVES', 'ANTIINFECTIVES_MISCELLANEOUS', 'ANTINEOPLASTICS', 'ANTIPARKINSON_DRUGS', 'ANTIPLATELET_DRUGS', 'ANTIVIRALS', 'AUTONOMIC_DRUGS', 'BIOLOGICALS', 'BLOOD', 'CARDIAC_DRUGS', 'CARDIOVASCULAR', 'CNS_DRUGS', 'COLONY_STIMULATING_FACTORS', 'CONTRACEPTIVES', 'COUGH_COLD_PREPARATIONS', 'DIAGNOSTIC', 'DIURETICS', 'EENT_PREPS', 'ELECT_CALORIC_H2O', 'GASTROINTESTINAL', 'HERBALS', 'HORMONES', 'IMMUNOSUPPRESANT', 'INVESTIGATIONAL', 'MISCELLANEOUS_MEDICAL_SUPPLIES__DEVICES__NON_DRUG', 'MUSCLE_RELAXANTS', 'PRE_NATAL_VITAMINS', 'PSYCHOTHERAPEUTIC_DRUGS', 'SEDATIVE_HYPNOTICS', 'SKIN_PREPS', 'SMOKING_DETERRENTS', 'THYROID_PREPS', 'UNCLASSIFIED_DRUG_PRODUCTS', 'VITAMINS', 'dispo', 'UTI_diag', 'split', 'abxUTI', 'alt_diag']\n"
     ]
    }
   ],
   "source": [
    "print(list(df.columns))"
   ]
  },
  {
   "cell_type": "code",
   "execution_count": 11,
   "id": "8bb99f8b-5ba1-414c-9294-7c8127a34de9",
   "metadata": {},
   "outputs": [],
   "source": [
    "df.to_csv(\"output_file.csv\", index=False)"
   ]
  },
  {
   "cell_type": "code",
   "execution_count": 12,
   "id": "d81cb9ab-bb90-4477-a8a5-88d654708206",
   "metadata": {},
   "outputs": [
    {
     "data": {
      "text/plain": [
       "(80387, 121)"
      ]
     },
     "execution_count": 12,
     "metadata": {},
     "output_type": "execute_result"
    }
   ],
   "source": [
    "df.shape"
   ]
  },
  {
   "cell_type": "code",
   "execution_count": 14,
   "id": "6342dd50-31cf-48b2-bc45-af9df9d2b7be",
   "metadata": {},
   "outputs": [
    {
     "name": "stdout",
     "output_type": "stream",
     "text": [
      "   ID  PATID UCX_abnormal ua_bacteria   ua_bili  ua_blood ua_clarity ua_color  \\\n",
      "0   1      1          yes         few  negative  negative      clear   yellow   \n",
      "1   2      1           no        many  negative     small      clear   yellow   \n",
      "2   3      2          yes         few  negative  negative      clear   yellow   \n",
      "3   4      3          yes        many  negative  negative  not_clear   yellow   \n",
      "4   5      4           no    moderate     small  negative      clear   orange   \n",
      "\n",
      "         ua_epi ua_glucose  ... SKIN_PREPS SMOKING_DETERRENTS THYROID_PREPS  \\\n",
      "0         small   negative  ...         No                 No            No   \n",
      "1  not_reported   negative  ...         No                 No            No   \n",
      "2         small   negative  ...         No                 No           Yes   \n",
      "3  not_reported   negative  ...         No                 No            No   \n",
      "4  not_reported   negative  ...         No                 No            No   \n",
      "\n",
      "  UNCLASSIFIED_DRUG_PRODUCTS VITAMINS      dispo  UTI_diag     split abxUTI  \\\n",
      "0                         No       No      Admit       Yes  training    yes   \n",
      "1                         No      Yes      Admit       Yes  training    yes   \n",
      "2                        Yes       No  Discharge        No  training     no   \n",
      "3                         No      Yes      Admit       Yes  training    yes   \n",
      "4                         No       No        AMA        No  training     no   \n",
      "\n",
      "   alt_diag  \n",
      "0         0  \n",
      "1         0  \n",
      "2         0  \n",
      "3         0  \n",
      "4         0  \n",
      "\n",
      "[5 rows x 121 columns]\n"
     ]
    }
   ],
   "source": [
    "print(df.head())"
   ]
  },
  {
   "cell_type": "code",
   "execution_count": 15,
   "id": "8f8b8b1f-6279-41e8-aa7f-8a7adabec911",
   "metadata": {},
   "outputs": [],
   "source": [
    "rows_to_drop = df.sample(n=75387).index"
   ]
  },
  {
   "cell_type": "code",
   "execution_count": 16,
   "id": "9fa7f31c-7e75-4131-bcdb-74cb91493415",
   "metadata": {},
   "outputs": [],
   "source": [
    "df = df.drop(rows_to_drop)"
   ]
  },
  {
   "cell_type": "code",
   "execution_count": 17,
   "id": "cb83e3ce-c247-4abf-99cc-c21cad54a15d",
   "metadata": {},
   "outputs": [],
   "source": [
    "## TEMPORARY DATASET\n",
    "df.to_csv(\"output_file_5k.csv\", index=False)"
   ]
  },
  {
   "cell_type": "code",
   "execution_count": 18,
   "id": "2157024b-64f1-4e95-bfe8-d5280466246e",
   "metadata": {},
   "outputs": [
    {
     "data": {
      "text/plain": [
       "(5000, 121)"
      ]
     },
     "execution_count": 18,
     "metadata": {},
     "output_type": "execute_result"
    }
   ],
   "source": [
    "df.shape"
   ]
  },
  {
   "cell_type": "code",
   "execution_count": null,
   "id": "f97503b6-9cff-4db2-8680-b7281feb59ca",
   "metadata": {},
   "outputs": [],
   "source": []
  }
 ],
 "metadata": {
  "kernelspec": {
   "display_name": "Python 3 (ipykernel)",
   "language": "python",
   "name": "python3"
  },
  "language_info": {
   "codemirror_mode": {
    "name": "ipython",
    "version": 3
   },
   "file_extension": ".py",
   "mimetype": "text/x-python",
   "name": "python",
   "nbconvert_exporter": "python",
   "pygments_lexer": "ipython3",
   "version": "3.9.6"
  }
 },
 "nbformat": 4,
 "nbformat_minor": 5
}
