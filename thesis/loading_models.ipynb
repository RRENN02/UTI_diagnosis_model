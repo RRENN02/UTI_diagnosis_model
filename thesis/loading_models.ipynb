{
 "cells": [
  {
   "cell_type": "code",
   "execution_count": 96,
   "metadata": {},
   "outputs": [],
   "source": [
    "import joblib \n",
    "import numpy as np\n",
    "import pandas as pd\n",
    "from sklearn.preprocessing import StandardScaler"
   ]
  },
  {
   "cell_type": "code",
   "execution_count": 97,
   "metadata": {},
   "outputs": [],
   "source": [
    "trained_xgb = joblib.load(\"trained_xgb_model.pkl\")\n",
    "trained_lgbm = joblib.load(\"trained_lgbm_model.pkl\")\n",
    "trained_svm = joblib.load(\"trained_svm_model.pkl\")"
   ]
  },
  {
   "cell_type": "code",
   "execution_count": 98,
   "metadata": {},
   "outputs": [],
   "source": [
    "ensemble_weights = joblib.load(\"ensemble_weights.pkl\")\n",
    "weight_xgb = ensemble_weights['weight_xgb']\n",
    "weight_lgbm = ensemble_weights['weight_lgbm']\n",
    "weight_svc = ensemble_weights['weight_svc']"
   ]
  },
  {
   "cell_type": "code",
   "execution_count": 99,
   "metadata": {},
   "outputs": [],
   "source": [
    "def ensemble_predict(X_test):\n",
    "    xgb_predicted_proba = trained_xgb.predict_proba(X_test)\n",
    "    lgbm_predicted_proba = trained_lgbm.predict_proba(X_test)\n",
    "    svm_predicted_proba = trained_svm.predict_proba(X_test)\n",
    "\n",
    "    print(\"XGB Probabilities:\", xgb_predicted_proba[:5])\n",
    "    print(\"LGBM Probabilities:\", lgbm_predicted_proba[:5])\n",
    "    print(\"SVM Probabilities:\", svm_predicted_proba[:5])\n",
    "    \n",
    "    top3_waverage_predictions = (\n",
    "        weight_lgbm * lgbm_predicted_proba +\n",
    "        weight_xgb * xgb_predicted_proba +\n",
    "        weight_svc * svm_predicted_proba\n",
    "    ) / (weight_lgbm + weight_xgb + weight_svc)\n",
    "\n",
    "    \n",
    "    top3_labeled_predictions = np.argmax(top3_waverage_predictions, axis=1)\n",
    "\n",
    "    print(\"Ensemble Prediction Probabilities:\", top3_waverage_predictions)\n",
    "    return top3_labeled_predictions"
   ]
  },
  {
   "cell_type": "code",
   "execution_count": 100,
   "metadata": {},
   "outputs": [],
   "source": [
    "scaler = StandardScaler()"
   ]
  },
  {
   "cell_type": "code",
   "execution_count": 101,
   "metadata": {},
   "outputs": [],
   "source": [
    "sample_data = {\n",
    "    'Age': [20],\n",
    "    'Sex': ['MALE'],\n",
    "    'Ethnicity': ['FILIPINO'],\n",
    "    'Marital Status': ['SINGLE'],\n",
    "    'Clarity': ['DECREASED'],\n",
    "    'Color': ['LIGHT YELLOW'],\n",
    "    'Transparency': ['CLEAR'],\n",
    "    'Spec Gravity': [1.025],\n",
    "    'pH Level': [5.0],\n",
    "    'Leukocytes': ['NEGATIVE'],\n",
    "    'Nitrite': ['NEGATIVE'],\n",
    "    'Protein': ['NEGATIVE'],\n",
    "    'Glucose': ['NEGATIVE'],\n",
    "    'Ketones': ['NEGATIVE'],\n",
    "    'Urobilinogen': ['NORMAL'],\n",
    "    'Bilirubin': ['NEGATIVE'],\n",
    "    'Blood': ['NEGATIVE'],\n",
    "    'Bacteria': ['RARE'],\n",
    "    'Epithelial Cells': ['RARE'],\n",
    "    'RBC': ['0-2'],\n",
    "    'WBC': ['0-2'],\n",
    "    'Mucus Threads': ['RARE'],\n",
    "    'Amorphous Urate/Phosphate': ['RARE'],\n",
    "}\n",
    "\n",
    "sample_df = pd.DataFrame(sample_data)\n"
   ]
  },
  {
   "cell_type": "code",
   "execution_count": 102,
   "metadata": {},
   "outputs": [
    {
     "name": "stdout",
     "output_type": "stream",
     "text": [
      "   Age  Clarity  Color  Transparency  Spec Gravity  pH Level  Leukocytes  \\\n",
      "0   20        0      3             0         1.025       5.0           0   \n",
      "\n",
      "   Nitrite  Protein  Glucose  ...  Epithelial Cells  RBC  WBC  Mucus Threads  \\\n",
      "0        0        0        0  ...                 0    0    0              0   \n",
      "\n",
      "   Amorphous Urate/Phosphate  Marital Status_SINGLE  Marital Status_MARRIED  \\\n",
      "0                          0                   True                       0   \n",
      "\n",
      "   Marital Status_WIDOWED  FEMALE  FILIPINO  \n",
      "0                       0       0         1  \n",
      "\n",
      "[1 rows x 25 columns]\n"
     ]
    }
   ],
   "source": [
    "\n",
    "\n",
    "sample_df['Urobilinogen'] = sample_df['Urobilinogen'].replace('NORMAL', 1)\n",
    "sample_df['Urobilinogen'] = sample_df['Urobilinogen'].apply(\n",
    "    lambda x: int(float(str(x).split()[0])) if isinstance(x, str) and any(char.isdigit() for char in x) else x\n",
    ")\n",
    "\n",
    "binary_columns = {\n",
    "    'Clarity': {'INCREASED': 1, 'DECREASED': 0}\n",
    "}\n",
    "\n",
    "for col, mapping in binary_columns.items():\n",
    "    sample_df[col] = sample_df[col].map(mapping)\n",
    "\n",
    "ordinal_mappings = {\n",
    "    'Color': ['CLEAR', 'PALE YELLOW', 'STRAW', 'LIGHT YELLOW', 'YELLOW', 'DARK YELLOW', 'AMBER', 'BROWN', 'RED'],\n",
    "    'Transparency': ['CLEAR',  'HAZY', 'CLOUDY', 'MILKY', 'TURBID', 'RED'],\n",
    "    'Nitrite': ['NEGATIVE', 'TRACE', 'POSITIVE'],\n",
    "    'Protein': ['NEGATIVE', 'TRACE', '1+', '2+', '3+', '4+'],\n",
    "    'Leukocytes': ['NEGATIVE', 'TRACE', '1+', '2+', '3+', '4+'],\n",
    "    'Glucose': ['NEGATIVE', 'TRACE', '1+', '2+', '3+', '4+'],\n",
    "    'Ketones': ['NEGATIVE', 'TRACE', '1+', '2+', '3+', '4+'],\n",
    "    'Bilirubin': ['NEGATIVE', 'TRACE', '1+', '2+', '3+', '4+'],\n",
    "    'Blood': ['NEGATIVE', 'TRACE', '1+', '2+', '3+', '4+'],\n",
    "    'Bacteria': ['RARE', 'FEW', 'MODERATE', 'MANY', 'TNTC'],\n",
    "    'Epithelial Cells': ['RARE', 'FEW', 'MODERATE', 'MANY', 'TNTC'],\n",
    "    'RBC': ['0-2', ' 5-10', ' 10-20', '20-30', 'TNTC'],\n",
    "    'WBC': ['0-2', ' 5-10', ' 10-20', '20-30', 'TNTC'],\n",
    "    'Mucus Threads': ['RARE', 'FEW', 'MODERATE', 'MANY', 'TNTC'],\n",
    "    'Amorphous Urate/Phosphate': ['RARE', 'FEW', 'MODERATE', 'MANY', 'TNTC']\n",
    "}\n",
    "\n",
    "for col, order in ordinal_mappings.items():\n",
    "    sample_df[col] = pd.Categorical(sample_df[col], categories=order, ordered=True).codes\n",
    "\n",
    "sample_df = pd.get_dummies(sample_df, columns=['Marital Status'], drop_first=False)\n",
    "\n",
    "expected_columns = ['Marital Status_MARRIED', 'Marital Status_SINGLE', 'Marital Status_WIDOWED']\n",
    "for col in expected_columns:\n",
    "    if col not in sample_df.columns:\n",
    "        sample_df[col] = 0 \n",
    "\n",
    "sample_df['FEMALE'] = sample_df['Sex'].apply(lambda x: 1 if x == 'FEMALE' else 0)\n",
    "sample_df = sample_df.drop(columns=['Sex'])\n",
    "\n",
    "sample_df['FILIPINO'] = sample_df['Ethnicity'].apply(lambda x: 1 if x == 'FILIPINO' else 0)\n",
    "sample_df = sample_df.drop(columns=['Ethnicity'])\n",
    "\n",
    "print(sample_df)"
   ]
  },
  {
   "cell_type": "code",
   "execution_count": 103,
   "metadata": {},
   "outputs": [
    {
     "name": "stdout",
     "output_type": "stream",
     "text": [
      "XGB Probabilities: [[0.27631485 0.72368515]]\n",
      "LGBM Probabilities: [[0.10183562 0.89816438]]\n",
      "SVM Probabilities: [[0.30585291 0.69414709]]\n",
      "Ensemble Prediction Probabilities: [[0.22800113 0.77199889]]\n",
      "Sample Predictions: [1]\n"
     ]
    },
    {
     "name": "stderr",
     "output_type": "stream",
     "text": [
      "c:\\Python39\\lib\\site-packages\\sklearn\\base.py:486: UserWarning: X has feature names, but SVC was fitted without feature names\n",
      "  warnings.warn(\n"
     ]
    }
   ],
   "source": [
    "predictions = ensemble_predict(sample_df)\n",
    "print(\"Sample Predictions:\", predictions)"
   ]
  },
  {
   "cell_type": "code",
   "execution_count": null,
   "metadata": {},
   "outputs": [],
   "source": []
  }
 ],
 "metadata": {
  "kernelspec": {
   "display_name": "Python 3",
   "language": "python",
   "name": "python3"
  },
  "language_info": {
   "codemirror_mode": {
    "name": "ipython",
    "version": 3
   },
   "file_extension": ".py",
   "mimetype": "text/x-python",
   "name": "python",
   "nbconvert_exporter": "python",
   "pygments_lexer": "ipython3",
   "version": "3.9.6"
  }
 },
 "nbformat": 4,
 "nbformat_minor": 2
}
