{
 "cells": [
  {
   "cell_type": "code",
   "execution_count": 1,
   "id": "80ad1b84-9afe-433e-aca3-ef31bb8d14ac",
   "metadata": {},
   "outputs": [],
   "source": [
    "import optuna\n",
    "import pandas as pd\n",
    "import numpy as np\n",
    "from pytorch_tabnet.tab_model import TabNetClassifier\n",
    "from sklearn.metrics import accuracy_score, precision_score, recall_score, f1_score, confusion_matrix, classification_report\n",
    "from sklearn.model_selection import train_test_split\n",
    "from sklearn.preprocessing import LabelEncoder\n",
    "import numpy as np\n",
    "from sklearn.preprocessing import StandardScaler\n",
    "import shap "
   ]
  },
  {
   "cell_type": "code",
   "execution_count": 2,
   "id": "ddbba3f3-4f4d-418b-8032-e3bb68ddae68",
   "metadata": {},
   "outputs": [
    {
     "data": {
      "text/html": [
       "<div>\n",
       "<style scoped>\n",
       "    .dataframe tbody tr th:only-of-type {\n",
       "        vertical-align: middle;\n",
       "    }\n",
       "\n",
       "    .dataframe tbody tr th {\n",
       "        vertical-align: top;\n",
       "    }\n",
       "\n",
       "    .dataframe thead th {\n",
       "        text-align: right;\n",
       "    }\n",
       "</style>\n",
       "<table border=\"1\" class=\"dataframe\">\n",
       "  <thead>\n",
       "    <tr style=\"text-align: right;\">\n",
       "      <th></th>\n",
       "      <th>ID</th>\n",
       "      <th>PATID</th>\n",
       "      <th>UCX_abnormal</th>\n",
       "      <th>ua_bacteria</th>\n",
       "      <th>ua_bili</th>\n",
       "      <th>ua_blood</th>\n",
       "      <th>ua_clarity</th>\n",
       "      <th>ua_color</th>\n",
       "      <th>ua_epi</th>\n",
       "      <th>ua_glucose</th>\n",
       "      <th>...</th>\n",
       "      <th>ua_spec_grav</th>\n",
       "      <th>ua_urobili</th>\n",
       "      <th>ua_wbc</th>\n",
       "      <th>age</th>\n",
       "      <th>abxUTI</th>\n",
       "      <th>ethnicity_Hispanic or Latino</th>\n",
       "      <th>ethnicity_Non-Hispanic</th>\n",
       "      <th>ethnicity_Patient Refused</th>\n",
       "      <th>ethnicity_Unknown</th>\n",
       "      <th>Female</th>\n",
       "    </tr>\n",
       "  </thead>\n",
       "  <tbody>\n",
       "    <tr>\n",
       "      <th>0</th>\n",
       "      <td>25960</td>\n",
       "      <td>17080</td>\n",
       "      <td>0</td>\n",
       "      <td>0</td>\n",
       "      <td>0</td>\n",
       "      <td>0</td>\n",
       "      <td>1</td>\n",
       "      <td>1</td>\n",
       "      <td>0</td>\n",
       "      <td>0</td>\n",
       "      <td>...</td>\n",
       "      <td>1.020</td>\n",
       "      <td>0</td>\n",
       "      <td>1</td>\n",
       "      <td>69</td>\n",
       "      <td>0</td>\n",
       "      <td>False</td>\n",
       "      <td>True</td>\n",
       "      <td>False</td>\n",
       "      <td>False</td>\n",
       "      <td>False</td>\n",
       "    </tr>\n",
       "    <tr>\n",
       "      <th>1</th>\n",
       "      <td>25961</td>\n",
       "      <td>17080</td>\n",
       "      <td>1</td>\n",
       "      <td>1</td>\n",
       "      <td>0</td>\n",
       "      <td>2</td>\n",
       "      <td>0</td>\n",
       "      <td>1</td>\n",
       "      <td>1</td>\n",
       "      <td>0</td>\n",
       "      <td>...</td>\n",
       "      <td>1.014</td>\n",
       "      <td>0</td>\n",
       "      <td>1</td>\n",
       "      <td>73</td>\n",
       "      <td>1</td>\n",
       "      <td>False</td>\n",
       "      <td>True</td>\n",
       "      <td>False</td>\n",
       "      <td>False</td>\n",
       "      <td>False</td>\n",
       "    </tr>\n",
       "    <tr>\n",
       "      <th>2</th>\n",
       "      <td>25964</td>\n",
       "      <td>17080</td>\n",
       "      <td>0</td>\n",
       "      <td>1</td>\n",
       "      <td>0</td>\n",
       "      <td>3</td>\n",
       "      <td>1</td>\n",
       "      <td>1</td>\n",
       "      <td>1</td>\n",
       "      <td>0</td>\n",
       "      <td>...</td>\n",
       "      <td>1.022</td>\n",
       "      <td>1</td>\n",
       "      <td>1</td>\n",
       "      <td>24</td>\n",
       "      <td>1</td>\n",
       "      <td>False</td>\n",
       "      <td>True</td>\n",
       "      <td>False</td>\n",
       "      <td>False</td>\n",
       "      <td>True</td>\n",
       "    </tr>\n",
       "    <tr>\n",
       "      <th>3</th>\n",
       "      <td>25969</td>\n",
       "      <td>17084</td>\n",
       "      <td>0</td>\n",
       "      <td>1</td>\n",
       "      <td>0</td>\n",
       "      <td>0</td>\n",
       "      <td>1</td>\n",
       "      <td>1</td>\n",
       "      <td>2</td>\n",
       "      <td>0</td>\n",
       "      <td>...</td>\n",
       "      <td>1.010</td>\n",
       "      <td>1</td>\n",
       "      <td>1</td>\n",
       "      <td>42</td>\n",
       "      <td>0</td>\n",
       "      <td>False</td>\n",
       "      <td>True</td>\n",
       "      <td>False</td>\n",
       "      <td>False</td>\n",
       "      <td>True</td>\n",
       "    </tr>\n",
       "    <tr>\n",
       "      <th>4</th>\n",
       "      <td>25971</td>\n",
       "      <td>17086</td>\n",
       "      <td>0</td>\n",
       "      <td>0</td>\n",
       "      <td>0</td>\n",
       "      <td>1</td>\n",
       "      <td>1</td>\n",
       "      <td>1</td>\n",
       "      <td>1</td>\n",
       "      <td>0</td>\n",
       "      <td>...</td>\n",
       "      <td>1.023</td>\n",
       "      <td>0</td>\n",
       "      <td>2</td>\n",
       "      <td>86</td>\n",
       "      <td>1</td>\n",
       "      <td>False</td>\n",
       "      <td>True</td>\n",
       "      <td>False</td>\n",
       "      <td>False</td>\n",
       "      <td>False</td>\n",
       "    </tr>\n",
       "    <tr>\n",
       "      <th>...</th>\n",
       "      <td>...</td>\n",
       "      <td>...</td>\n",
       "      <td>...</td>\n",
       "      <td>...</td>\n",
       "      <td>...</td>\n",
       "      <td>...</td>\n",
       "      <td>...</td>\n",
       "      <td>...</td>\n",
       "      <td>...</td>\n",
       "      <td>...</td>\n",
       "      <td>...</td>\n",
       "      <td>...</td>\n",
       "      <td>...</td>\n",
       "      <td>...</td>\n",
       "      <td>...</td>\n",
       "      <td>...</td>\n",
       "      <td>...</td>\n",
       "      <td>...</td>\n",
       "      <td>...</td>\n",
       "      <td>...</td>\n",
       "      <td>...</td>\n",
       "    </tr>\n",
       "    <tr>\n",
       "      <th>21358</th>\n",
       "      <td>80367</td>\n",
       "      <td>55350</td>\n",
       "      <td>1</td>\n",
       "      <td>0</td>\n",
       "      <td>0</td>\n",
       "      <td>0</td>\n",
       "      <td>0</td>\n",
       "      <td>1</td>\n",
       "      <td>0</td>\n",
       "      <td>0</td>\n",
       "      <td>...</td>\n",
       "      <td>1.012</td>\n",
       "      <td>0</td>\n",
       "      <td>2</td>\n",
       "      <td>61</td>\n",
       "      <td>1</td>\n",
       "      <td>False</td>\n",
       "      <td>True</td>\n",
       "      <td>False</td>\n",
       "      <td>False</td>\n",
       "      <td>False</td>\n",
       "    </tr>\n",
       "    <tr>\n",
       "      <th>21359</th>\n",
       "      <td>80373</td>\n",
       "      <td>55355</td>\n",
       "      <td>0</td>\n",
       "      <td>0</td>\n",
       "      <td>0</td>\n",
       "      <td>1</td>\n",
       "      <td>0</td>\n",
       "      <td>1</td>\n",
       "      <td>1</td>\n",
       "      <td>0</td>\n",
       "      <td>...</td>\n",
       "      <td>1.017</td>\n",
       "      <td>0</td>\n",
       "      <td>2</td>\n",
       "      <td>69</td>\n",
       "      <td>0</td>\n",
       "      <td>False</td>\n",
       "      <td>True</td>\n",
       "      <td>False</td>\n",
       "      <td>False</td>\n",
       "      <td>False</td>\n",
       "    </tr>\n",
       "    <tr>\n",
       "      <th>21360</th>\n",
       "      <td>80374</td>\n",
       "      <td>55356</td>\n",
       "      <td>1</td>\n",
       "      <td>1</td>\n",
       "      <td>0</td>\n",
       "      <td>3</td>\n",
       "      <td>1</td>\n",
       "      <td>1</td>\n",
       "      <td>1</td>\n",
       "      <td>0</td>\n",
       "      <td>...</td>\n",
       "      <td>1.014</td>\n",
       "      <td>0</td>\n",
       "      <td>3</td>\n",
       "      <td>81</td>\n",
       "      <td>1</td>\n",
       "      <td>False</td>\n",
       "      <td>True</td>\n",
       "      <td>False</td>\n",
       "      <td>False</td>\n",
       "      <td>False</td>\n",
       "    </tr>\n",
       "    <tr>\n",
       "      <th>21361</th>\n",
       "      <td>80379</td>\n",
       "      <td>55360</td>\n",
       "      <td>1</td>\n",
       "      <td>4</td>\n",
       "      <td>0</td>\n",
       "      <td>1</td>\n",
       "      <td>1</td>\n",
       "      <td>1</td>\n",
       "      <td>0</td>\n",
       "      <td>0</td>\n",
       "      <td>...</td>\n",
       "      <td>1.019</td>\n",
       "      <td>0</td>\n",
       "      <td>3</td>\n",
       "      <td>64</td>\n",
       "      <td>1</td>\n",
       "      <td>True</td>\n",
       "      <td>False</td>\n",
       "      <td>False</td>\n",
       "      <td>False</td>\n",
       "      <td>False</td>\n",
       "    </tr>\n",
       "    <tr>\n",
       "      <th>21362</th>\n",
       "      <td>80384</td>\n",
       "      <td>55363</td>\n",
       "      <td>1</td>\n",
       "      <td>0</td>\n",
       "      <td>0</td>\n",
       "      <td>1</td>\n",
       "      <td>1</td>\n",
       "      <td>1</td>\n",
       "      <td>1</td>\n",
       "      <td>0</td>\n",
       "      <td>...</td>\n",
       "      <td>1.034</td>\n",
       "      <td>0</td>\n",
       "      <td>3</td>\n",
       "      <td>22</td>\n",
       "      <td>1</td>\n",
       "      <td>True</td>\n",
       "      <td>False</td>\n",
       "      <td>False</td>\n",
       "      <td>False</td>\n",
       "      <td>True</td>\n",
       "    </tr>\n",
       "  </tbody>\n",
       "</table>\n",
       "<p>21363 rows × 26 columns</p>\n",
       "</div>"
      ],
      "text/plain": [
       "          ID  PATID  UCX_abnormal  ua_bacteria  ua_bili  ua_blood  ua_clarity  \\\n",
       "0      25960  17080             0            0        0         0           1   \n",
       "1      25961  17080             1            1        0         2           0   \n",
       "2      25964  17080             0            1        0         3           1   \n",
       "3      25969  17084             0            1        0         0           1   \n",
       "4      25971  17086             0            0        0         1           1   \n",
       "...      ...    ...           ...          ...      ...       ...         ...   \n",
       "21358  80367  55350             1            0        0         0           0   \n",
       "21359  80373  55355             0            0        0         1           0   \n",
       "21360  80374  55356             1            1        0         3           1   \n",
       "21361  80379  55360             1            4        0         1           1   \n",
       "21362  80384  55363             1            0        0         1           1   \n",
       "\n",
       "       ua_color  ua_epi  ua_glucose  ...  ua_spec_grav  ua_urobili  ua_wbc  \\\n",
       "0             1       0           0  ...         1.020           0       1   \n",
       "1             1       1           0  ...         1.014           0       1   \n",
       "2             1       1           0  ...         1.022           1       1   \n",
       "3             1       2           0  ...         1.010           1       1   \n",
       "4             1       1           0  ...         1.023           0       2   \n",
       "...         ...     ...         ...  ...           ...         ...     ...   \n",
       "21358         1       0           0  ...         1.012           0       2   \n",
       "21359         1       1           0  ...         1.017           0       2   \n",
       "21360         1       1           0  ...         1.014           0       3   \n",
       "21361         1       0           0  ...         1.019           0       3   \n",
       "21362         1       1           0  ...         1.034           0       3   \n",
       "\n",
       "       age  abxUTI  ethnicity_Hispanic or Latino  ethnicity_Non-Hispanic  \\\n",
       "0       69       0                         False                    True   \n",
       "1       73       1                         False                    True   \n",
       "2       24       1                         False                    True   \n",
       "3       42       0                         False                    True   \n",
       "4       86       1                         False                    True   \n",
       "...    ...     ...                           ...                     ...   \n",
       "21358   61       1                         False                    True   \n",
       "21359   69       0                         False                    True   \n",
       "21360   81       1                         False                    True   \n",
       "21361   64       1                          True                   False   \n",
       "21362   22       1                          True                   False   \n",
       "\n",
       "       ethnicity_Patient Refused  ethnicity_Unknown  Female  \n",
       "0                          False              False   False  \n",
       "1                          False              False   False  \n",
       "2                          False              False    True  \n",
       "3                          False              False    True  \n",
       "4                          False              False   False  \n",
       "...                          ...                ...     ...  \n",
       "21358                      False              False   False  \n",
       "21359                      False              False   False  \n",
       "21360                      False              False   False  \n",
       "21361                      False              False   False  \n",
       "21362                      False              False    True  \n",
       "\n",
       "[21363 rows x 26 columns]"
      ]
     },
     "execution_count": 2,
     "metadata": {},
     "output_type": "execute_result"
    }
   ],
   "source": [
    "data = pd.read_csv('encoded_training.csv')\n",
    "data"
   ]
  },
  {
   "cell_type": "code",
   "execution_count": 3,
   "id": "2b32da8a-d4bf-427e-8dd6-6e6c10901060",
   "metadata": {},
   "outputs": [],
   "source": [
    "# Define features and target\n",
    "X = data.drop(columns=['UCX_abnormal', 'ID', 'PATID'])  # Dropping ID columns and target\n",
    "y = data['UCX_abnormal']"
   ]
  },
  {
   "cell_type": "code",
   "execution_count": 4,
   "id": "3f212220-ae4a-47ce-93fc-102e909fa582",
   "metadata": {},
   "outputs": [],
   "source": [
    "# Optional: Standardize features if necessary\n",
    "scaler = StandardScaler()\n",
    "X_scaled = scaler.fit_transform(X)"
   ]
  },
  {
   "cell_type": "code",
   "execution_count": 5,
   "id": "5c25f2c7-4b14-4dd0-b1b7-d42fb2f09950",
   "metadata": {},
   "outputs": [],
   "source": [
    "# Encode the labels as TabNet requires numerical labels\n",
    "y_encoded = LabelEncoder().fit_transform(y)"
   ]
  },
  {
   "cell_type": "code",
   "execution_count": 6,
   "id": "fd23fa59-4f74-4920-836c-f8886d07fe1a",
   "metadata": {},
   "outputs": [],
   "source": [
    "# Define the Optuna objective function for TabNet\n",
    "def objective(trial):\n",
    "    # Suggest hyperparameters for the TabNet model\n",
    "    n_d = trial.suggest_int('n_d', 8, 64)  # Dimensionality of the decision layer\n",
    "    n_a = trial.suggest_int('n_a', 8, 64)  # Dimensionality of the attention layer\n",
    "    n_steps = trial.suggest_int('n_steps', 3, 10)  # Number of steps in the architecture\n",
    "    gamma = trial.suggest_float('gamma', 1.0, 2.0)  # Relaxation parameter\n",
    "    lambda_sparse = trial.suggest_float('lambda_sparse', 1e-5, 1e-3, log=True)  # Sparse regularization strength\n",
    "    n_independent = trial.suggest_int('n_independent', 1, 5)  # Number of independent Gated Linear Units\n",
    "    n_shared = trial.suggest_int('n_shared', 1, 5)  # Number of shared Gated Linear Units\n",
    "\n",
    "    # Define the TabNet model\n",
    "    model = TabNetClassifier(\n",
    "        n_d=n_d,\n",
    "        n_a=n_a,\n",
    "        n_steps=n_steps,\n",
    "        gamma=gamma,\n",
    "        lambda_sparse=lambda_sparse,\n",
    "        n_independent=n_independent,\n",
    "        n_shared=n_shared,\n",
    "        verbose=0\n",
    "    )\n",
    "    \n",
    "    # Split the data into training and validation sets\n",
    "    X_train, X_val, y_train, y_val = train_test_split(X_scaled, y_encoded, test_size=0.2, random_state=42)\n",
    "    \n",
    "    # Train the model\n",
    "    model.fit(\n",
    "        X_train, y_train,\n",
    "        eval_set=[(X_val, y_val)],\n",
    "        eval_metric=['accuracy'],\n",
    "        max_epochs=100,\n",
    "        patience=10,  # Early stopping\n",
    "        batch_size=1024,\n",
    "        virtual_batch_size=128\n",
    "    )\n",
    "    \n",
    "    # Make predictions on the validation set\n",
    "    y_pred_val = model.predict(X_val)\n",
    "    \n",
    "    # Calculate validation accuracy\n",
    "    accuracy = accuracy_score(y_val, y_pred_val)\n",
    "    \n",
    "    # Return the negative accuracy (Optuna minimizes)\n",
    "    return -accuracy"
   ]
  },
  {
   "cell_type": "code",
   "execution_count": 7,
   "id": "82c2c1b8-715e-4590-aa45-5a6a35ce44fc",
   "metadata": {},
   "outputs": [
    {
     "name": "stderr",
     "output_type": "stream",
     "text": [
      "[I 2024-09-23 00:13:50,448] A new study created in memory with name: no-name-5f0310d1-38bb-46bd-bc6d-c3883e407e7d\n"
     ]
    }
   ],
   "source": [
    "\n",
    "# Create a study object for TabNet\n",
    "study = optuna.create_study(direction='minimize')  # Minimize the negative accuracy"
   ]
  },
  {
   "cell_type": "code",
   "execution_count": 8,
   "id": "606319b5-318c-4a85-a016-7c819f65268f",
   "metadata": {},
   "outputs": [
    {
     "name": "stdout",
     "output_type": "stream",
     "text": [
      "\n",
      "Early stopping occurred at epoch 36 with best_epoch = 26 and best_val_0_accuracy = 0.84086\n"
     ]
    },
    {
     "name": "stderr",
     "output_type": "stream",
     "text": [
      "c:\\Python39\\lib\\site-packages\\pytorch_tabnet\\callbacks.py:172: UserWarning: Best weights from best epoch are automatically used!\n",
      "  warnings.warn(wrn_msg)\n",
      "[I 2024-09-23 00:16:17,685] Trial 0 finished with value: -0.8408612216241517 and parameters: {'n_d': 44, 'n_a': 39, 'n_steps': 9, 'gamma': 1.4696909236719968, 'lambda_sparse': 2.2586211145484574e-05, 'n_independent': 1, 'n_shared': 4}. Best is trial 0 with value: -0.8408612216241517.\n"
     ]
    },
    {
     "name": "stdout",
     "output_type": "stream",
     "text": [
      "\n",
      "Early stopping occurred at epoch 22 with best_epoch = 12 and best_val_0_accuracy = 0.84414\n"
     ]
    },
    {
     "name": "stderr",
     "output_type": "stream",
     "text": [
      "c:\\Python39\\lib\\site-packages\\pytorch_tabnet\\callbacks.py:172: UserWarning: Best weights from best epoch are automatically used!\n",
      "  warnings.warn(wrn_msg)\n",
      "[I 2024-09-23 00:17:55,100] Trial 1 finished with value: -0.8441376082377721 and parameters: {'n_d': 13, 'n_a': 56, 'n_steps': 7, 'gamma': 1.0082362766412425, 'lambda_sparse': 0.00016413708141444004, 'n_independent': 5, 'n_shared': 4}. Best is trial 1 with value: -0.8441376082377721.\n"
     ]
    },
    {
     "name": "stdout",
     "output_type": "stream",
     "text": [
      "\n",
      "Early stopping occurred at epoch 18 with best_epoch = 8 and best_val_0_accuracy = 0.82331\n"
     ]
    },
    {
     "name": "stderr",
     "output_type": "stream",
     "text": [
      "c:\\Python39\\lib\\site-packages\\pytorch_tabnet\\callbacks.py:172: UserWarning: Best weights from best epoch are automatically used!\n",
      "  warnings.warn(wrn_msg)\n",
      "[I 2024-09-23 00:18:46,376] Trial 2 finished with value: -0.8233091504797566 and parameters: {'n_d': 30, 'n_a': 13, 'n_steps': 7, 'gamma': 1.8522304733591266, 'lambda_sparse': 9.131130204736656e-05, 'n_independent': 4, 'n_shared': 2}. Best is trial 1 with value: -0.8441376082377721.\n"
     ]
    },
    {
     "name": "stdout",
     "output_type": "stream",
     "text": [
      "\n",
      "Early stopping occurred at epoch 38 with best_epoch = 28 and best_val_0_accuracy = 0.84414\n"
     ]
    },
    {
     "name": "stderr",
     "output_type": "stream",
     "text": [
      "c:\\Python39\\lib\\site-packages\\pytorch_tabnet\\callbacks.py:172: UserWarning: Best weights from best epoch are automatically used!\n",
      "  warnings.warn(wrn_msg)\n",
      "[I 2024-09-23 00:21:09,200] Trial 3 finished with value: -0.8441376082377721 and parameters: {'n_d': 57, 'n_a': 35, 'n_steps': 5, 'gamma': 1.6146905504006712, 'lambda_sparse': 1.2030710635907865e-05, 'n_independent': 5, 'n_shared': 5}. Best is trial 1 with value: -0.8441376082377721.\n"
     ]
    },
    {
     "name": "stdout",
     "output_type": "stream",
     "text": [
      "\n",
      "Early stopping occurred at epoch 41 with best_epoch = 31 and best_val_0_accuracy = 0.83524\n"
     ]
    },
    {
     "name": "stderr",
     "output_type": "stream",
     "text": [
      "c:\\Python39\\lib\\site-packages\\pytorch_tabnet\\callbacks.py:172: UserWarning: Best weights from best epoch are automatically used!\n",
      "  warnings.warn(wrn_msg)\n",
      "[I 2024-09-23 00:23:20,029] Trial 4 finished with value: -0.8352445588579452 and parameters: {'n_d': 29, 'n_a': 18, 'n_steps': 9, 'gamma': 1.4157509315878591, 'lambda_sparse': 2.762499037904247e-05, 'n_independent': 4, 'n_shared': 2}. Best is trial 1 with value: -0.8441376082377721.\n"
     ]
    },
    {
     "name": "stdout",
     "output_type": "stream",
     "text": [
      "Stop training because you reached max_epochs = 100 with best_epoch = 93 and best_val_0_accuracy = 0.85139\n"
     ]
    },
    {
     "name": "stderr",
     "output_type": "stream",
     "text": [
      "c:\\Python39\\lib\\site-packages\\pytorch_tabnet\\callbacks.py:172: UserWarning: Best weights from best epoch are automatically used!\n",
      "  warnings.warn(wrn_msg)\n",
      "[I 2024-09-23 00:33:17,310] Trial 5 finished with value: -0.8513924643107886 and parameters: {'n_d': 44, 'n_a': 37, 'n_steps': 10, 'gamma': 1.6832373496991175, 'lambda_sparse': 2.435101716333242e-05, 'n_independent': 5, 'n_shared': 5}. Best is trial 5 with value: -0.8513924643107886.\n"
     ]
    },
    {
     "name": "stdout",
     "output_type": "stream",
     "text": [
      "\n",
      "Early stopping occurred at epoch 54 with best_epoch = 44 and best_val_0_accuracy = 0.85046\n"
     ]
    },
    {
     "name": "stderr",
     "output_type": "stream",
     "text": [
      "c:\\Python39\\lib\\site-packages\\pytorch_tabnet\\callbacks.py:172: UserWarning: Best weights from best epoch are automatically used!\n",
      "  warnings.warn(wrn_msg)\n",
      "[I 2024-09-23 00:34:43,492] Trial 6 finished with value: -0.8504563538497543 and parameters: {'n_d': 23, 'n_a': 31, 'n_steps': 6, 'gamma': 1.0669123100577829, 'lambda_sparse': 0.0007996159777000336, 'n_independent': 3, 'n_shared': 1}. Best is trial 5 with value: -0.8513924643107886.\n"
     ]
    },
    {
     "name": "stdout",
     "output_type": "stream",
     "text": [
      "\n",
      "Early stopping occurred at epoch 46 with best_epoch = 36 and best_val_0_accuracy = 0.85139\n"
     ]
    },
    {
     "name": "stderr",
     "output_type": "stream",
     "text": [
      "c:\\Python39\\lib\\site-packages\\pytorch_tabnet\\callbacks.py:172: UserWarning: Best weights from best epoch are automatically used!\n",
      "  warnings.warn(wrn_msg)\n",
      "[I 2024-09-23 00:35:45,868] Trial 7 finished with value: -0.8513924643107886 and parameters: {'n_d': 16, 'n_a': 9, 'n_steps': 5, 'gamma': 1.0285781229376538, 'lambda_sparse': 5.190066396978215e-05, 'n_independent': 3, 'n_shared': 1}. Best is trial 5 with value: -0.8513924643107886.\n"
     ]
    },
    {
     "name": "stdout",
     "output_type": "stream",
     "text": [
      "\n",
      "Early stopping occurred at epoch 23 with best_epoch = 13 and best_val_0_accuracy = 0.82752\n"
     ]
    },
    {
     "name": "stderr",
     "output_type": "stream",
     "text": [
      "c:\\Python39\\lib\\site-packages\\pytorch_tabnet\\callbacks.py:172: UserWarning: Best weights from best epoch are automatically used!\n",
      "  warnings.warn(wrn_msg)\n",
      "[I 2024-09-23 00:36:38,314] Trial 8 finished with value: -0.8275216475544114 and parameters: {'n_d': 24, 'n_a': 54, 'n_steps': 8, 'gamma': 1.523428124053581, 'lambda_sparse': 0.0006095981913500478, 'n_independent': 1, 'n_shared': 3}. Best is trial 5 with value: -0.8513924643107886.\n"
     ]
    },
    {
     "name": "stdout",
     "output_type": "stream",
     "text": [
      "\n",
      "Early stopping occurred at epoch 25 with best_epoch = 15 and best_val_0_accuracy = 0.84554\n"
     ]
    },
    {
     "name": "stderr",
     "output_type": "stream",
     "text": [
      "c:\\Python39\\lib\\site-packages\\pytorch_tabnet\\callbacks.py:172: UserWarning: Best weights from best epoch are automatically used!\n",
      "  warnings.warn(wrn_msg)\n",
      "[I 2024-09-23 00:37:49,531] Trial 9 finished with value: -0.8455417739293236 and parameters: {'n_d': 19, 'n_a': 55, 'n_steps': 4, 'gamma': 1.8489971619315795, 'lambda_sparse': 0.00044231427026272975, 'n_independent': 5, 'n_shared': 5}. Best is trial 5 with value: -0.8513924643107886.\n"
     ]
    },
    {
     "name": "stdout",
     "output_type": "stream",
     "text": [
      "\n",
      "Early stopping occurred at epoch 71 with best_epoch = 61 and best_val_0_accuracy = 0.85139\n"
     ]
    },
    {
     "name": "stderr",
     "output_type": "stream",
     "text": [
      "c:\\Python39\\lib\\site-packages\\pytorch_tabnet\\callbacks.py:172: UserWarning: Best weights from best epoch are automatically used!\n",
      "  warnings.warn(wrn_msg)\n",
      "[I 2024-09-23 00:42:42,206] Trial 10 finished with value: -0.8513924643107886 and parameters: {'n_d': 45, 'n_a': 46, 'n_steps': 10, 'gamma': 1.6829933100425087, 'lambda_sparse': 1.074012401926491e-05, 'n_independent': 2, 'n_shared': 4}. Best is trial 5 with value: -0.8513924643107886.\n"
     ]
    },
    {
     "name": "stdout",
     "output_type": "stream",
     "text": [
      "\n",
      "Early stopping occurred at epoch 24 with best_epoch = 14 and best_val_0_accuracy = 0.84929\n"
     ]
    },
    {
     "name": "stderr",
     "output_type": "stream",
     "text": [
      "c:\\Python39\\lib\\site-packages\\pytorch_tabnet\\callbacks.py:172: UserWarning: Best weights from best epoch are automatically used!\n",
      "  warnings.warn(wrn_msg)\n",
      "[I 2024-09-23 00:43:05,745] Trial 11 finished with value: -0.8492862157734613 and parameters: {'n_d': 41, 'n_a': 24, 'n_steps': 3, 'gamma': 1.2638698362058818, 'lambda_sparse': 6.094060486165478e-05, 'n_independent': 3, 'n_shared': 1}. Best is trial 5 with value: -0.8513924643107886.\n"
     ]
    },
    {
     "name": "stdout",
     "output_type": "stream",
     "text": [
      "\n",
      "Early stopping occurred at epoch 17 with best_epoch = 7 and best_val_0_accuracy = 0.82448\n"
     ]
    },
    {
     "name": "stderr",
     "output_type": "stream",
     "text": [
      "c:\\Python39\\lib\\site-packages\\pytorch_tabnet\\callbacks.py:172: UserWarning: Best weights from best epoch are automatically used!\n",
      "  warnings.warn(wrn_msg)\n",
      "[I 2024-09-23 00:43:31,856] Trial 12 finished with value: -0.8244792885560496 and parameters: {'n_d': 8, 'n_a': 24, 'n_steps': 5, 'gamma': 1.9919423895700388, 'lambda_sparse': 4.2757466408874844e-05, 'n_independent': 4, 'n_shared': 2}. Best is trial 5 with value: -0.8513924643107886.\n"
     ]
    },
    {
     "name": "stdout",
     "output_type": "stream",
     "text": [
      "\n",
      "Early stopping occurred at epoch 36 with best_epoch = 26 and best_val_0_accuracy = 0.84461\n"
     ]
    },
    {
     "name": "stderr",
     "output_type": "stream",
     "text": [
      "c:\\Python39\\lib\\site-packages\\pytorch_tabnet\\callbacks.py:172: UserWarning: Best weights from best epoch are automatically used!\n",
      "  warnings.warn(wrn_msg)\n",
      "[I 2024-09-23 00:44:43,225] Trial 13 finished with value: -0.8446056634682892 and parameters: {'n_d': 56, 'n_a': 10, 'n_steps': 6, 'gamma': 1.2586726662543135, 'lambda_sparse': 0.0001482821364848797, 'n_independent': 2, 'n_shared': 3}. Best is trial 5 with value: -0.8513924643107886.\n"
     ]
    },
    {
     "name": "stdout",
     "output_type": "stream",
     "text": [
      "\n",
      "Early stopping occurred at epoch 51 with best_epoch = 41 and best_val_0_accuracy = 0.84812\n"
     ]
    },
    {
     "name": "stderr",
     "output_type": "stream",
     "text": [
      "c:\\Python39\\lib\\site-packages\\pytorch_tabnet\\callbacks.py:172: UserWarning: Best weights from best epoch are automatically used!\n",
      "  warnings.warn(wrn_msg)\n",
      "[I 2024-09-23 00:47:04,882] Trial 14 finished with value: -0.8481160776971682 and parameters: {'n_d': 50, 'n_a': 64, 'n_steps': 10, 'gamma': 1.2501856394937325, 'lambda_sparse': 2.584826538684608e-05, 'n_independent': 2, 'n_shared': 1}. Best is trial 5 with value: -0.8513924643107886.\n"
     ]
    },
    {
     "name": "stdout",
     "output_type": "stream",
     "text": [
      "\n",
      "Early stopping occurred at epoch 41 with best_epoch = 31 and best_val_0_accuracy = 0.85209\n"
     ]
    },
    {
     "name": "stderr",
     "output_type": "stream",
     "text": [
      "c:\\Python39\\lib\\site-packages\\pytorch_tabnet\\callbacks.py:172: UserWarning: Best weights from best epoch are automatically used!\n",
      "  warnings.warn(wrn_msg)\n",
      "[I 2024-09-23 00:48:30,302] Trial 15 finished with value: -0.8520945471565645 and parameters: {'n_d': 64, 'n_a': 43, 'n_steps': 3, 'gamma': 1.7459622510311343, 'lambda_sparse': 0.0002585445271326861, 'n_independent': 3, 'n_shared': 5}. Best is trial 15 with value: -0.8520945471565645.\n"
     ]
    },
    {
     "name": "stdout",
     "output_type": "stream",
     "text": [
      "\n",
      "Early stopping occurred at epoch 31 with best_epoch = 21 and best_val_0_accuracy = 0.84929\n"
     ]
    },
    {
     "name": "stderr",
     "output_type": "stream",
     "text": [
      "c:\\Python39\\lib\\site-packages\\pytorch_tabnet\\callbacks.py:172: UserWarning: Best weights from best epoch are automatically used!\n",
      "  warnings.warn(wrn_msg)\n",
      "[I 2024-09-23 00:49:49,271] Trial 16 finished with value: -0.8492862157734613 and parameters: {'n_d': 63, 'n_a': 44, 'n_steps': 3, 'gamma': 1.7156302814740965, 'lambda_sparse': 0.0002681360258765007, 'n_independent': 4, 'n_shared': 5}. Best is trial 15 with value: -0.8520945471565645.\n"
     ]
    },
    {
     "name": "stdout",
     "output_type": "stream",
     "text": [
      "\n",
      "Early stopping occurred at epoch 39 with best_epoch = 29 and best_val_0_accuracy = 0.84297\n"
     ]
    },
    {
     "name": "stderr",
     "output_type": "stream",
     "text": [
      "c:\\Python39\\lib\\site-packages\\pytorch_tabnet\\callbacks.py:172: UserWarning: Best weights from best epoch are automatically used!\n",
      "  warnings.warn(wrn_msg)\n",
      "[I 2024-09-23 00:52:57,807] Trial 17 finished with value: -0.8429674701614791 and parameters: {'n_d': 64, 'n_a': 46, 'n_steps': 8, 'gamma': 1.8122347148289621, 'lambda_sparse': 0.0002789216102178035, 'n_independent': 2, 'n_shared': 5}. Best is trial 15 with value: -0.8520945471565645.\n"
     ]
    },
    {
     "name": "stdout",
     "output_type": "stream",
     "text": [
      "\n",
      "Early stopping occurred at epoch 45 with best_epoch = 35 and best_val_0_accuracy = 0.84203\n"
     ]
    },
    {
     "name": "stderr",
     "output_type": "stream",
     "text": [
      "c:\\Python39\\lib\\site-packages\\pytorch_tabnet\\callbacks.py:172: UserWarning: Best weights from best epoch are automatically used!\n",
      "  warnings.warn(wrn_msg)\n",
      "[I 2024-09-23 00:54:36,429] Trial 18 finished with value: -0.8420313597004446 and parameters: {'n_d': 34, 'n_a': 30, 'n_steps': 4, 'gamma': 1.9677316256286437, 'lambda_sparse': 9.714998831922168e-05, 'n_independent': 3, 'n_shared': 4}. Best is trial 15 with value: -0.8520945471565645.\n"
     ]
    },
    {
     "name": "stdout",
     "output_type": "stream",
     "text": [
      "\n",
      "Early stopping occurred at epoch 73 with best_epoch = 63 and best_val_0_accuracy = 0.84905\n"
     ]
    },
    {
     "name": "stderr",
     "output_type": "stream",
     "text": [
      "c:\\Python39\\lib\\site-packages\\pytorch_tabnet\\callbacks.py:172: UserWarning: Best weights from best epoch are automatically used!\n",
      "  warnings.warn(wrn_msg)\n",
      "[I 2024-09-23 01:01:05,551] Trial 19 finished with value: -0.8490521881582027 and parameters: {'n_d': 52, 'n_a': 38, 'n_steps': 8, 'gamma': 1.5830415079524538, 'lambda_sparse': 0.00026281862325315157, 'n_independent': 4, 'n_shared': 5}. Best is trial 15 with value: -0.8520945471565645.\n"
     ]
    },
    {
     "name": "stdout",
     "output_type": "stream",
     "text": [
      "\n",
      "Early stopping occurred at epoch 76 with best_epoch = 66 and best_val_0_accuracy = 0.84788\n"
     ]
    },
    {
     "name": "stderr",
     "output_type": "stream",
     "text": [
      "c:\\Python39\\lib\\site-packages\\pytorch_tabnet\\callbacks.py:172: UserWarning: Best weights from best epoch are automatically used!\n",
      "  warnings.warn(wrn_msg)\n",
      "[I 2024-09-23 01:07:51,515] Trial 20 finished with value: -0.8478820500819096 and parameters: {'n_d': 39, 'n_a': 42, 'n_steps': 9, 'gamma': 1.743612528371246, 'lambda_sparse': 0.00015414513062341203, 'n_independent': 5, 'n_shared': 4}. Best is trial 15 with value: -0.8520945471565645.\n"
     ]
    },
    {
     "name": "stdout",
     "output_type": "stream",
     "text": [
      "\n",
      "Early stopping occurred at epoch 31 with best_epoch = 21 and best_val_0_accuracy = 0.85022\n"
     ]
    },
    {
     "name": "stderr",
     "output_type": "stream",
     "text": [
      "c:\\Python39\\lib\\site-packages\\pytorch_tabnet\\callbacks.py:172: UserWarning: Best weights from best epoch are automatically used!\n",
      "  warnings.warn(wrn_msg)\n",
      "[I 2024-09-23 01:08:55,103] Trial 21 finished with value: -0.8502223262344957 and parameters: {'n_d': 34, 'n_a': 50, 'n_steps': 4, 'gamma': 1.3577911012020136, 'lambda_sparse': 5.282894029612608e-05, 'n_independent': 3, 'n_shared': 3}. Best is trial 15 with value: -0.8520945471565645.\n"
     ]
    },
    {
     "name": "stdout",
     "output_type": "stream",
     "text": [
      "\n",
      "Early stopping occurred at epoch 17 with best_epoch = 7 and best_val_0_accuracy = 0.83852\n"
     ]
    },
    {
     "name": "stderr",
     "output_type": "stream",
     "text": [
      "c:\\Python39\\lib\\site-packages\\pytorch_tabnet\\callbacks.py:172: UserWarning: Best weights from best epoch are automatically used!\n",
      "  warnings.warn(wrn_msg)\n",
      "[I 2024-09-23 01:09:32,085] Trial 22 finished with value: -0.8385209454715656 and parameters: {'n_d': 15, 'n_a': 33, 'n_steps': 5, 'gamma': 1.6283493625793328, 'lambda_sparse': 3.1625818919776436e-05, 'n_independent': 3, 'n_shared': 3}. Best is trial 15 with value: -0.8520945471565645.\n"
     ]
    },
    {
     "name": "stdout",
     "output_type": "stream",
     "text": [
      "\n",
      "Early stopping occurred at epoch 14 with best_epoch = 4 and best_val_0_accuracy = 0.84812\n"
     ]
    },
    {
     "name": "stderr",
     "output_type": "stream",
     "text": [
      "c:\\Python39\\lib\\site-packages\\pytorch_tabnet\\callbacks.py:172: UserWarning: Best weights from best epoch are automatically used!\n",
      "  warnings.warn(wrn_msg)\n",
      "[I 2024-09-23 01:09:57,752] Trial 23 finished with value: -0.8481160776971682 and parameters: {'n_d': 50, 'n_a': 25, 'n_steps': 3, 'gamma': 1.1221207243496232, 'lambda_sparse': 1.7019932534738236e-05, 'n_independent': 3, 'n_shared': 5}. Best is trial 15 with value: -0.8520945471565645.\n"
     ]
    },
    {
     "name": "stdout",
     "output_type": "stream",
     "text": [
      "\n",
      "Early stopping occurred at epoch 20 with best_epoch = 10 and best_val_0_accuracy = 0.84344\n"
     ]
    },
    {
     "name": "stderr",
     "output_type": "stream",
     "text": [
      "c:\\Python39\\lib\\site-packages\\pytorch_tabnet\\callbacks.py:172: UserWarning: Best weights from best epoch are automatically used!\n",
      "  warnings.warn(wrn_msg)\n",
      "[I 2024-09-23 01:10:21,560] Trial 24 finished with value: -0.8434355253919963 and parameters: {'n_d': 28, 'n_a': 17, 'n_steps': 4, 'gamma': 1.7761446581877833, 'lambda_sparse': 7.072855860245378e-05, 'n_independent': 2, 'n_shared': 2}. Best is trial 15 with value: -0.8520945471565645.\n"
     ]
    },
    {
     "name": "stdout",
     "output_type": "stream",
     "text": [
      "\n",
      "Early stopping occurred at epoch 29 with best_epoch = 19 and best_val_0_accuracy = 0.83361\n"
     ]
    },
    {
     "name": "stderr",
     "output_type": "stream",
     "text": [
      "c:\\Python39\\lib\\site-packages\\pytorch_tabnet\\callbacks.py:172: UserWarning: Best weights from best epoch are automatically used!\n",
      "  warnings.warn(wrn_msg)\n",
      "[I 2024-09-23 01:11:57,626] Trial 25 finished with value: -0.833606365551135 and parameters: {'n_d': 8, 'n_a': 49, 'n_steps': 6, 'gamma': 1.9021725446592357, 'lambda_sparse': 1.7500353614224557e-05, 'n_independent': 4, 'n_shared': 4}. Best is trial 15 with value: -0.8520945471565645.\n"
     ]
    },
    {
     "name": "stdout",
     "output_type": "stream",
     "text": [
      "\n",
      "Early stopping occurred at epoch 25 with best_epoch = 15 and best_val_0_accuracy = 0.83595\n"
     ]
    },
    {
     "name": "stderr",
     "output_type": "stream",
     "text": [
      "c:\\Python39\\lib\\site-packages\\pytorch_tabnet\\callbacks.py:172: UserWarning: Best weights from best epoch are automatically used!\n",
      "  warnings.warn(wrn_msg)\n",
      "[I 2024-09-23 01:13:16,646] Trial 26 finished with value: -0.835946641703721 and parameters: {'n_d': 59, 'n_a': 28, 'n_steps': 5, 'gamma': 1.5374334470868427, 'lambda_sparse': 4.146494261478529e-05, 'n_independent': 3, 'n_shared': 5}. Best is trial 15 with value: -0.8520945471565645.\n"
     ]
    },
    {
     "name": "stdout",
     "output_type": "stream",
     "text": [
      "\n",
      "Early stopping occurred at epoch 38 with best_epoch = 28 and best_val_0_accuracy = 0.84999\n"
     ]
    },
    {
     "name": "stderr",
     "output_type": "stream",
     "text": [
      "c:\\Python39\\lib\\site-packages\\pytorch_tabnet\\callbacks.py:172: UserWarning: Best weights from best epoch are automatically used!\n",
      "  warnings.warn(wrn_msg)\n",
      "[I 2024-09-23 01:14:55,097] Trial 27 finished with value: -0.8499882986192371 and parameters: {'n_d': 45, 'n_a': 40, 'n_steps': 7, 'gamma': 1.1622745129688292, 'lambda_sparse': 0.00036727239967718607, 'n_independent': 3, 'n_shared': 1}. Best is trial 15 with value: -0.8520945471565645.\n"
     ]
    },
    {
     "name": "stdout",
     "output_type": "stream",
     "text": [
      "\n",
      "Early stopping occurred at epoch 32 with best_epoch = 22 and best_val_0_accuracy = 0.84999\n"
     ]
    },
    {
     "name": "stderr",
     "output_type": "stream",
     "text": [
      "c:\\Python39\\lib\\site-packages\\pytorch_tabnet\\callbacks.py:172: UserWarning: Best weights from best epoch are automatically used!\n",
      "  warnings.warn(wrn_msg)\n",
      "[I 2024-09-23 01:15:47,532] Trial 28 finished with value: -0.8499882986192371 and parameters: {'n_d': 39, 'n_a': 18, 'n_steps': 3, 'gamma': 1.3706980052591464, 'lambda_sparse': 0.00012881902190835305, 'n_independent': 4, 'n_shared': 3}. Best is trial 15 with value: -0.8520945471565645.\n"
     ]
    },
    {
     "name": "stdout",
     "output_type": "stream",
     "text": [
      "\n",
      "Early stopping occurred at epoch 35 with best_epoch = 25 and best_val_0_accuracy = 0.84788\n"
     ]
    },
    {
     "name": "stderr",
     "output_type": "stream",
     "text": [
      "c:\\Python39\\lib\\site-packages\\pytorch_tabnet\\callbacks.py:172: UserWarning: Best weights from best epoch are automatically used!\n",
      "  warnings.warn(wrn_msg)\n",
      "[I 2024-09-23 01:16:52,346] Trial 29 finished with value: -0.8478820500819096 and parameters: {'n_d': 54, 'n_a': 37, 'n_steps': 4, 'gamma': 1.458840789432847, 'lambda_sparse': 1.938474428827938e-05, 'n_independent': 1, 'n_shared': 4}. Best is trial 15 with value: -0.8520945471565645.\n"
     ]
    }
   ],
   "source": [
    "# Optimize the study\n",
    "study.optimize(objective, n_trials=30)  # Run the optimization for 30 trials\n"
   ]
  },
  {
   "cell_type": "code",
   "execution_count": 9,
   "id": "8fcae607-e504-410b-bf22-3fd193732d22",
   "metadata": {},
   "outputs": [
    {
     "name": "stdout",
     "output_type": "stream",
     "text": [
      "Best parameters: {'n_d': 64, 'n_a': 43, 'n_steps': 3, 'gamma': 1.7459622510311343, 'lambda_sparse': 0.0002585445271326861, 'n_independent': 3, 'n_shared': 5}\n",
      "Best score: 0.8520945471565645\n"
     ]
    }
   ],
   "source": [
    "# Get the best parameters\n",
    "print(f\"Best parameters: {study.best_params}\")\n",
    "print(f\"Best score: {-study.best_value}\")"
   ]
  },
  {
   "cell_type": "code",
   "execution_count": 10,
   "id": "224dfee6-a82b-4466-b46e-3d88c146b9fc",
   "metadata": {},
   "outputs": [
    {
     "name": "stdout",
     "output_type": "stream",
     "text": [
      "\n",
      "Early stopping occurred at epoch 41 with best_epoch = 31 and best_val_0_accuracy = 0.85209\n"
     ]
    },
    {
     "name": "stderr",
     "output_type": "stream",
     "text": [
      "c:\\Python39\\lib\\site-packages\\pytorch_tabnet\\callbacks.py:172: UserWarning: Best weights from best epoch are automatically used!\n",
      "  warnings.warn(wrn_msg)\n"
     ]
    }
   ],
   "source": [
    "# Train the final model using the best parameters\n",
    "best_params = study.best_params\n",
    "final_model = TabNetClassifier(\n",
    "    n_d=best_params['n_d'],\n",
    "    n_a=best_params['n_a'],\n",
    "    n_steps=best_params['n_steps'],\n",
    "    gamma=best_params['gamma'],\n",
    "    lambda_sparse=best_params['lambda_sparse'],\n",
    "    n_independent=best_params['n_independent'],\n",
    "    n_shared=best_params['n_shared'],\n",
    "    verbose=0\n",
    ")\n",
    "\n",
    "# Split the data into training and testing sets\n",
    "X_train, X_test, y_train, y_test = train_test_split(X_scaled, y_encoded, test_size=0.2, random_state=42)\n",
    "\n",
    "# Train the model on the training set\n",
    "final_model.fit(\n",
    "    X_train, y_train,\n",
    "    eval_set=[(X_test, y_test)],\n",
    "    eval_metric=['accuracy'],\n",
    "    max_epochs=100,\n",
    "    patience=10,  # Early stopping\n",
    "    batch_size=1024,\n",
    "    virtual_batch_size=128\n",
    ")\n",
    "\n",
    "# Make predictions on the test set\n",
    "y_pred = final_model.predict(X_test)"
   ]
  },
  {
   "cell_type": "code",
   "execution_count": 11,
   "id": "15786800-cb6b-4cdd-83f2-059facd692e0",
   "metadata": {},
   "outputs": [],
   "source": [
    "# Calculate metrics\n",
    "accuracy = accuracy_score(y_test, y_pred)\n",
    "precision = precision_score(y_test, y_pred)\n",
    "recall = recall_score(y_test, y_pred)\n",
    "f1 = f1_score(y_test, y_pred)\n",
    "conf_matrix = confusion_matrix(y_test, y_pred)\n",
    "class_report = classification_report(y_test, y_pred)"
   ]
  },
  {
   "cell_type": "code",
   "execution_count": 12,
   "id": "a8458d5b-8387-4b53-9613-fb5c192da4b1",
   "metadata": {},
   "outputs": [
    {
     "name": "stdout",
     "output_type": "stream",
     "text": [
      "Accuracy: 0.8521\n",
      "Precision: 0.8279\n",
      "Recall: 0.6534\n",
      "F1 Score: 0.7304\n",
      "Confusion Matrix:\n",
      "[[2785  178]\n",
      " [ 454  856]]\n",
      "Classification Report:\n",
      "              precision    recall  f1-score   support\n",
      "\n",
      "           0       0.86      0.94      0.90      2963\n",
      "           1       0.83      0.65      0.73      1310\n",
      "\n",
      "    accuracy                           0.85      4273\n",
      "   macro avg       0.84      0.80      0.81      4273\n",
      "weighted avg       0.85      0.85      0.85      4273\n",
      "\n"
     ]
    }
   ],
   "source": [
    "# Print the metrics\n",
    "print(f\"Accuracy: {accuracy:.4f}\")\n",
    "print(f\"Precision: {precision:.4f}\")\n",
    "print(f\"Recall: {recall:.4f}\")\n",
    "print(f\"F1 Score: {f1:.4f}\")\n",
    "print(\"Confusion Matrix:\")\n",
    "print(conf_matrix)\n",
    "print(\"Classification Report:\")\n",
    "print(class_report)"
   ]
  },
  {
   "cell_type": "code",
   "execution_count": 13,
   "id": "9e528033",
   "metadata": {},
   "outputs": [
    {
     "name": "stdout",
     "output_type": "stream",
     "text": [
      "    Importance\n",
      "15    0.177899\n",
      "0     0.149297\n",
      "17    0.135926\n",
      "8     0.122604\n",
      "9     0.120186\n",
      "22    0.056613\n",
      "7     0.046655\n",
      "5     0.036365\n",
      "6     0.030592\n",
      "18    0.026730\n"
     ]
    }
   ],
   "source": [
    "# Extract feature importances\n",
    "feature_importances = final_model.feature_importances_\n",
    "\n",
    "# Create a DataFrame to display feature importances\n",
    "feature_importance_df = pd.DataFrame({\n",
    "    'Importance': feature_importances\n",
    "})\n",
    "\n",
    "# Sort and display the top 10 features\n",
    "top_10_features = feature_importance_df.sort_values(by='Importance', ascending=False).head(10)\n",
    "print(top_10_features)\n"
   ]
  },
  {
   "cell_type": "code",
   "execution_count": 14,
   "id": "5b96f7be",
   "metadata": {},
   "outputs": [
    {
     "name": "stdout",
     "output_type": "stream",
     "text": [
      "    Importance                       Feature\n",
      "15    0.177899                        ua_wbc\n",
      "0     0.149297                   ua_bacteria\n",
      "17    0.135926                        abxUTI\n",
      "8     0.122604                       ua_leuk\n",
      "9     0.120186                    ua_nitrite\n",
      "22    0.056613                        Female\n",
      "7     0.046655                    ua_ketones\n",
      "5     0.036365                        ua_epi\n",
      "6     0.030592                    ua_glucose\n",
      "18    0.026730  ethnicity_Hispanic or Latino\n"
     ]
    }
   ],
   "source": [
    "original_feature_names = X.columns\n",
    "feature_importance_df['Feature'] = [original_feature_names[i] for i in range(len(original_feature_names))]\n",
    "top_10_features = feature_importance_df.sort_values(by='Importance', ascending=False).head(10)\n",
    "\n",
    "print(top_10_features)"
   ]
  },
  {
   "cell_type": "code",
   "execution_count": null,
   "id": "7b603e19",
   "metadata": {},
   "outputs": [],
   "source": []
  }
 ],
 "metadata": {
  "kernelspec": {
   "display_name": "Python 3",
   "language": "python",
   "name": "python3"
  },
  "language_info": {
   "codemirror_mode": {
    "name": "ipython",
    "version": 3
   },
   "file_extension": ".py",
   "mimetype": "text/x-python",
   "name": "python",
   "nbconvert_exporter": "python",
   "pygments_lexer": "ipython3",
   "version": "3.9.6"
  }
 },
 "nbformat": 4,
 "nbformat_minor": 5
}
